{
 "cells": [
  {
   "cell_type": "code",
   "execution_count": null,
   "metadata": {
    "collapsed": true
   },
   "outputs": [],
   "source": []
  },
  {
   "cell_type": "code",
   "execution_count": null,
   "metadata": {
    "collapsed": true
   },
   "outputs": [],
   "source": [
    "# work with black and shite images of size 28x28=784 pixels. \n",
    "# try to predict what number is in the image based on the image data \n",
    "# in the form of an array"
   ]
  },
  {
   "cell_type": "code",
   "execution_count": 1,
   "metadata": {},
   "outputs": [],
   "source": [
    "import pandas as pd\n",
    "import numpy as np\n",
    "import seaborn as sns\n",
    "import matplotlib.pyplot as plt\n",
    "%matplotlib inline\n",
    "import tensorflow as tf\n",
    "from tensorflow.examples.tutorials.mnist import input_data"
   ]
  },
  {
   "cell_type": "markdown",
   "metadata": {},
   "source": [
    "# 1, read the data"
   ]
  },
  {
   "cell_type": "code",
   "execution_count": 82,
   "metadata": {},
   "outputs": [
    {
     "name": "stdout",
     "output_type": "stream",
     "text": [
      "Extracting /tmp/data/train-images-idx3-ubyte.gz\n",
      "Extracting /tmp/data/train-labels-idx1-ubyte.gz\n",
      "Extracting /tmp/data/t10k-images-idx3-ubyte.gz\n",
      "Extracting /tmp/data/t10k-labels-idx1-ubyte.gz\n"
     ]
    }
   ],
   "source": [
    "mnist=input_data.read_data_sets(\"/tmp/data/\",one_hot=True)"
   ]
  },
  {
   "cell_type": "code",
   "execution_count": 10,
   "metadata": {},
   "outputs": [
    {
     "data": {
      "text/plain": [
       "<tensorflow.contrib.learn.python.learn.datasets.mnist.DataSet at 0x1c25b25828>"
      ]
     },
     "execution_count": 10,
     "metadata": {},
     "output_type": "execute_result"
    }
   ],
   "source": [
    "mnist.train"
   ]
  },
  {
   "cell_type": "code",
   "execution_count": 12,
   "metadata": {},
   "outputs": [
    {
     "data": {
      "text/plain": [
       "array([[ 0.,  0.,  0., ...,  0.,  0.,  0.],\n",
       "       [ 0.,  0.,  0., ...,  0.,  0.,  0.],\n",
       "       [ 0.,  0.,  0., ...,  0.,  0.,  0.],\n",
       "       ..., \n",
       "       [ 0.,  0.,  0., ...,  0.,  0.,  0.],\n",
       "       [ 0.,  0.,  0., ...,  0.,  0.,  0.],\n",
       "       [ 0.,  0.,  0., ...,  0.,  0.,  0.]], dtype=float32)"
      ]
     },
     "execution_count": 12,
     "metadata": {},
     "output_type": "execute_result"
    }
   ],
   "source": [
    "mnist.train.images"
   ]
  },
  {
   "cell_type": "code",
   "execution_count": 8,
   "metadata": {},
   "outputs": [
    {
     "data": {
      "text/plain": [
       "(55000, 784)"
      ]
     },
     "execution_count": 8,
     "metadata": {},
     "output_type": "execute_result"
    }
   ],
   "source": [
    "mnist.train.images.shape"
   ]
  },
  {
   "cell_type": "code",
   "execution_count": 96,
   "metadata": {},
   "outputs": [
    {
     "data": {
      "text/plain": [
       "55000"
      ]
     },
     "execution_count": 96,
     "metadata": {},
     "output_type": "execute_result"
    }
   ],
   "source": [
    "mnist.train.num_examples"
   ]
  },
  {
   "cell_type": "code",
   "execution_count": 100,
   "metadata": {
    "collapsed": true
   },
   "outputs": [],
   "source": [
    "# take a look at one of the images"
   ]
  },
  {
   "cell_type": "code",
   "execution_count": 15,
   "metadata": {},
   "outputs": [
    {
     "data": {
      "text/plain": [
       "<matplotlib.image.AxesImage at 0x1c30047160>"
      ]
     },
     "execution_count": 15,
     "metadata": {},
     "output_type": "execute_result"
    },
    {
     "data": {
      "image/png": "[encoded data removed]",
      "text/plain": [
       "<matplotlib.figure.Figure at 0x1c3009c550>"
      ]
     },
     "metadata": {},
     "output_type": "display_data"
    }
   ],
   "source": [
    "plt.imshow(mnist.train.images[1].reshape(28,28))"
   ]
  },
  {
   "cell_type": "code",
   "execution_count": null,
   "metadata": {
    "collapsed": true
   },
   "outputs": [],
   "source": []
  },
  {
   "cell_type": "markdown",
   "metadata": {},
   "source": [
    "# 2, create the layers"
   ]
  },
  {
   "cell_type": "code",
   "execution_count": 102,
   "metadata": {
    "collapsed": true
   },
   "outputs": [],
   "source": [
    "# tensorflow graph input"
   ]
  },
  {
   "cell_type": "code",
   "execution_count": 83,
   "metadata": {},
   "outputs": [],
   "source": [
    "n_hidden_1=256# 256 neurons is just a common number for each layer\n",
    "n_hidden_2=256\n",
    "n_input=784 # 28x28 which is the size of the picture\n",
    "n_classes=10 # total classes\n",
    "# x and y will be use in function 'add' later\n",
    "x = tf.placeholder(tf.float32, [None, n_input])\n",
    "y = tf.placeholder(tf.float32, [None, n_classes])\n",
    "\n",
    "# create 2 dictionaries contained the weight and bias objects for the model\n",
    "weights={\n",
    "    'w1':tf.Variable(tf.random_normal([n_input,n_hidden_1])),\n",
    "    'w2':tf.Variable(tf.random_normal([n_hidden_1,n_hidden_2])),\n",
    "    'out':tf.Variable(tf.random_normal([n_hidden_2,n_classes]))\n",
    "}\n",
    "\n",
    "biases={\n",
    "    'b1':tf.Variable(tf.random_normal([n_hidden_1])),\n",
    "    'b2':tf.Variable(tf.random_normal([n_hidden_2])),\n",
    "    'out':tf.Variable(tf.random_normal([n_classes]))\n",
    "}\n",
    "\n",
    "# create the 2 layers\n",
    "# relu= an activation function, which is a simple rectifier function which\n",
    "# either returns x or zero\n",
    "# use linear activation with matrix mul here\n",
    "input_layer_1=tf.add(tf.matmul(x,weights['w1']), biases['b1'])\n",
    "# RELU(x * w + b) -> f(x)=max(0,x)\n",
    "hidden_layer_1=tf.nn.relu(input_layer_1)\n",
    "    \n",
    "input_layer_2=tf.add(tf.matmul(hidden_layer_1, weights['w2']), biases['b2'])\n",
    "hidden_layer_2=tf.nn.relu(input_layer_2)\n",
    "    \n",
    "output_layer=tf.matmul(hidden_layer_2, weights['out']) + biases['out']\n",
    "# could be lots and lots of hidden layer - deep learning"
   ]
  },
  {
   "cell_type": "code",
   "execution_count": 18,
   "metadata": {},
   "outputs": [
    {
     "data": {
      "text/plain": [
       "<tf.Variable 'Variable_2:0' shape=(256, 10) dtype=float32_ref>"
      ]
     },
     "execution_count": 18,
     "metadata": {},
     "output_type": "execute_result"
    }
   ],
   "source": [
    "weights['out']"
   ]
  },
  {
   "cell_type": "code",
   "execution_count": 19,
   "metadata": {},
   "outputs": [
    {
     "name": "stdout",
     "output_type": "stream",
     "text": [
      "Tensor(\"MatMul:0\", shape=(?, 256), dtype=float32)\n"
     ]
    }
   ],
   "source": [
    "print (tf.matmul(x,weights['w1']))"
   ]
  },
  {
   "cell_type": "markdown",
   "metadata": {},
   "source": [
    "# define loss and optimizer, and init.. the variables"
   ]
  },
  {
   "cell_type": "code",
   "execution_count": 84,
   "metadata": {},
   "outputs": [
    {
     "name": "stdout",
     "output_type": "stream",
     "text": [
      "WARNING:tensorflow:From <ipython-input-84-f1abb0b441f2>:10: initialize_all_variables (from tensorflow.python.ops.variables) is deprecated and will be removed after 2017-03-02.\n",
      "Instructions for updating:\n",
      "Use `tf.global_variables_initializer` instead.\n"
     ]
    }
   ],
   "source": [
    "# create the variables for cost and optimization functions\n",
    "cost_function = tf.reduce_mean(tf.nn.softmax_cross_entropy_with_logits(logits=output_layer, labels=y))\n",
    "optimizer = tf.train.AdamOptimizer(learning_rate=0.01).minimize(cost_function)\n",
    "\n",
    "training_epochs = 15\n",
    "batch_size = 100\n",
    "n_samples = mnist.train.num_examples\n",
    "\n",
    "#init must place before sess\n",
    "init=tf.initialize_all_variables()\n",
    "\n",
    "# lunch the session\n",
    "sess=tf.InteractiveSession()\n",
    "# intilialize all the variables\n",
    "sess.run(init)"
   ]
  },
  {
   "cell_type": "markdown",
   "metadata": {},
   "source": [
    "# reduce the cost"
   ]
  },
  {
   "cell_type": "code",
   "execution_count": 87,
   "metadata": {},
   "outputs": [
    {
     "name": "stdout",
     "output_type": "stream",
     "text": [
      "Epoch: 1 cost=16.0044\n",
      "Epoch: 2 cost=3.9316\n",
      "Epoch: 3 cost=2.7457\n",
      "Epoch: 4 cost=2.3563\n",
      "Epoch: 5 cost=1.8845\n",
      "Epoch: 6 cost=1.7689\n",
      "Epoch: 7 cost=1.7469\n",
      "Epoch: 8 cost=1.4724\n",
      "Epoch: 9 cost=1.2770\n",
      "Epoch: 10 cost=1.3586\n",
      "Epoch: 11 cost=1.2873\n",
      "Epoch: 12 cost=1.0480\n",
      "Epoch: 13 cost=0.9204\n",
      "Epoch: 14 cost=0.7920\n",
      "Epoch: 15 cost=0.9406\n",
      "\n",
      "\n",
      "Model has completed 15 Epochs of Training\n"
     ]
    }
   ],
   "source": [
    "# Training Epochs\n",
    "# Essentially the max amount of loops possible before we stop\n",
    "# May stop earlier if cost/loss limit was set\n",
    "for epoch in range(training_epochs):\n",
    "    # Start with cost = 0.0\n",
    "    avg_cost = 0.0\n",
    "    # Convert total number of batches to integer\n",
    "    total_batch = int(n_samples/batch_size)\n",
    "    # Loop over all batches\n",
    "    for i in range(20):\n",
    "        # Grab the next batch of training data and labels\n",
    "        batch_x, batch_y = mnist.train.next_batch(batch_size)\n",
    "        # Feed dictionary for optimization and loss value\n",
    "        # Returns a tuple, but we only need 'c' the cost\n",
    "        # So we set an underscore as a \"throwaway\"\n",
    "        _, c = sess.run([optimizer, cost_function], feed_dict={x: batch_x, y: batch_y})\n",
    "        # Compute average loss\n",
    "        avg_cost += c / total_batch\n",
    "\n",
    "    print(\"Epoch: {} cost={:.4f}\".format(epoch+1,avg_cost))\n",
    "print(\"Model has completed {} Epochs of Training\".format(training_epochs))"
   ]
  },
  {
   "cell_type": "markdown",
   "metadata": {},
   "source": [
    "# increase accuracy"
   ]
  },
  {
   "cell_type": "code",
   "execution_count": 91,
   "metadata": {},
   "outputs": [
    {
     "name": "stdout",
     "output_type": "stream",
     "text": [
      "Training epoch 100\n",
      "Accuracy: 0.8753\n",
      "Training epoch 200\n",
      "Accuracy: 0.9048\n",
      "Training epoch 300\n",
      "Accuracy: 0.9145\n",
      "Training epoch 400\n",
      "Accuracy: 0.9242\n",
      "Training epoch 500\n",
      "Accuracy: 0.9278\n",
      "Training epoch 600\n",
      "Accuracy: 0.9345\n",
      "Training epoch 700\n",
      "Accuracy: 0.934\n",
      "Training epoch 800\n",
      "Accuracy: 0.9369\n",
      "Training epoch 900\n",
      "Accuracy: 0.9462\n",
      "Training epoch 1000\n",
      "Accuracy: 0.9433\n",
      "Training epoch 1100\n",
      "Accuracy: 0.9369\n",
      "Training epoch 1200\n",
      "Accuracy: 0.9434\n",
      "Training epoch 1300\n",
      "Accuracy: 0.9428\n",
      "Training epoch 1400\n",
      "Accuracy: 0.9455\n",
      "Training epoch 1500\n",
      "Accuracy: 0.9496\n",
      "Training epoch 1600\n",
      "Accuracy: 0.9512\n",
      "Training epoch 1700\n",
      "Accuracy: 0.948\n",
      "Training epoch 1800\n",
      "Accuracy: 0.9468\n",
      "Training epoch 1900\n",
      "Accuracy: 0.9517\n",
      "Training epoch 2000\n",
      "Accuracy: 0.9513\n"
     ]
    }
   ],
   "source": [
    "tf.global_variables_initializer().run()\n",
    "for i in range(2000):\n",
    "    batch = mnist.train.next_batch(100)\n",
    "    optimizer.run(feed_dict={x: batch[0], y: batch[1]})\n",
    "    if ((i+1) % 100 == 0):\n",
    "        accuracy_eval=accuracy.eval(feed_dict={x: mnist.test.images, y: mnist.test.labels})  \n",
    "        print(\"Training epoch \" +str(i+1))\n",
    "        print(\"Accuracy: \" + str(accuracy_eval))"
   ]
  },
  {
   "cell_type": "markdown",
   "metadata": {},
   "source": [
    "# Check prediction accuracy"
   ]
  },
  {
   "cell_type": "code",
   "execution_count": 92,
   "metadata": {},
   "outputs": [
    {
     "name": "stdout",
     "output_type": "stream",
     "text": [
      "Accuracy: 0.9513\n"
     ]
    }
   ],
   "source": [
    "#a check of predictions == y_test\n",
    "correct_predictions = tf.equal(tf.argmax(output_layer, 1), tf.argmax(y, 1))\n",
    "\n",
    "#In order to get a numerical value for our predictions we will \n",
    "#need to use tf.cast to cast the Tensor of booleans back into a Tensor \n",
    "#of Floating point values in order to take the mean of it.\n",
    "correct_predictions = tf.cast(correct_predictions, \"float\")\n",
    "\n",
    "accuracy = tf.reduce_mean(correct_predictions)\n",
    "\n",
    "print(\"Accuracy:\", accuracy.eval({x: mnist.test.images, y: mnist.test.labels}))"
   ]
  },
  {
   "cell_type": "markdown",
   "metadata": {},
   "source": [
    "# test prediction accuracy"
   ]
  },
  {
   "cell_type": "code",
   "execution_count": 93,
   "metadata": {},
   "outputs": [
    {
     "data": {
      "image/png": "[encoded data removed]",
      "text/plain": [
       "<matplotlib.figure.Figure at 0x1c49e870f0>"
      ]
     },
     "metadata": {},
     "output_type": "display_data"
    },
    {
     "data": {
      "image/png": "[encoded data removed]",
      "text/plain": [
       "<matplotlib.figure.Figure at 0x1c2b34ee10>"
      ]
     },
     "metadata": {},
     "output_type": "display_data"
    }
   ],
   "source": [
    "\n",
    "for i in range(100):\n",
    "    x_train=mnist.test.images[i,:].reshape(1,784)\n",
    "    y_train=mnist.test.labels[i,:]\n",
    "    label=y_train.argmax()\n",
    "    prediction=sess.run(output_layer,feed_dict={x:x_train}).argmax()\n",
    "    if (prediction != label) :\n",
    "        plt.title('Prediction= %d Actual= %d' % (prediction, label))\n",
    "        plt.imshow(x_train.reshape([28,28]), cmap=plt.get_cmap('gray_r'))\n",
    "        plt.show()"
   ]
  },
  {
   "cell_type": "code",
   "execution_count": null,
   "metadata": {
    "collapsed": true
   },
   "outputs": [],
   "source": []
  },
  {
   "cell_type": "code",
   "execution_count": null,
   "metadata": {
    "collapsed": true
   },
   "outputs": [],
   "source": []
  }
 ],
 "metadata": {
  "kernelspec": {
   "display_name": "Python 3",
   "language": "python",
   "name": "python3"
  },
  "language_info": {
   "codemirror_mode": {
    "name": "ipython",
    "version": 3
   },
   "file_extension": ".py",
   "mimetype": "text/x-python",
   "name": "python",
   "nbconvert_exporter": "python",
   "pygments_lexer": "ipython3",
   "version": "3.6.4"
  }
 },
 "nbformat": 4,
 "nbformat_minor": 2
}
